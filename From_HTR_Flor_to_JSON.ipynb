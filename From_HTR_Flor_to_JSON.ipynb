{
 "cells": [
  {
   "cell_type": "markdown",
   "id": "dda70b61",
   "metadata": {},
   "source": [
    "# Imports"
   ]
  },
  {
   "cell_type": "code",
   "execution_count": 1,
   "id": "49c4ae85",
   "metadata": {},
   "outputs": [],
   "source": [
    "import pandas as pd\n",
    "import numpy as np\n",
    "import json\n",
    "import glob"
   ]
  },
  {
   "cell_type": "markdown",
   "id": "a20ac67c",
   "metadata": {},
   "source": [
    "# Functions"
   ]
  },
  {
   "cell_type": "code",
   "execution_count": 2,
   "id": "7830c8bf",
   "metadata": {},
   "outputs": [],
   "source": [
    "def getPage(filename):\n",
    "    return int(filename.split('_')[1])\n",
    "\n",
    "def getSegment(filename):\n",
    "    return int(filename.split('_')[2])"
   ]
  },
  {
   "cell_type": "markdown",
   "id": "46de014c",
   "metadata": {},
   "source": [
    "# Code\n",
    "## Load data"
   ]
  },
  {
   "cell_type": "code",
   "execution_count": 7,
   "id": "5b5c0c9d",
   "metadata": {},
   "outputs": [],
   "source": [
    "import json\n",
    "\n",
    "cahier_n = 130\n",
    "\n",
    "f = open(\"/.../BenthamDatasetR0-GT/Partitions/TestLines.lst\", \"r\")\n",
    "test_lines = f.read().split('\\n')[:-1]\n",
    "\n",
    "f = open(f\"/.../predict_CH_ACV_P_RENE_MONOD_130/flor/predict_CH_ACV_P_RENE_MONOD_130.txt\", \"r\")\n",
    "pred = f.read().split('\\n')[:-1]\n",
    "pred = np.array(pred)[np.arange(len(pred))%2 == 1].tolist()\n",
    "pred = [p[5:] for p in pred]\n",
    "\n",
    "df = pd.DataFrame({'lines': test_lines, 'pred': pred})\n",
    "\n",
    "df['page'] = df['lines'].apply(getPage)\n",
    "df['segment'] = df['lines'].apply(getSegment)\n",
    "\n",
    "pages = []\n",
    "for page_n in range(1, df['page'].max()+1):\n",
    "    df_page = df[df[\"page\"] == page_n].sort_values(by=\"segment\")\n",
    "    \n",
    "    txt = \"\"\n",
    "    for seg in df_page['pred'].values:\n",
    "        txt += seg.replace('\"', \"''\") + ' ' '\\n' + ' '\n",
    "        \n",
    "    page = {\n",
    "        \"cahier_n\": cahier_n,\n",
    "        \"page_n\": page_n,\n",
    "        \"transcription\": txt\n",
    "    }\n",
    "    pages.append(page)\n",
    "\n",
    "with open(f'transcr_{cahier_n:03d}.json', 'w') as f:\n",
    "    json.dump(pages, f)\n"
   ]
  }
 ],
 "metadata": {
  "kernelspec": {
   "display_name": "Python 3",
   "language": "python",
   "name": "python3"
  },
  "language_info": {
   "codemirror_mode": {
    "name": "ipython",
    "version": 3
   },
   "file_extension": ".py",
   "mimetype": "text/x-python",
   "name": "python",
   "nbconvert_exporter": "python",
   "pygments_lexer": "ipython3",
   "version": "3.8.6"
  }
 },
 "nbformat": 4,
 "nbformat_minor": 5
}
